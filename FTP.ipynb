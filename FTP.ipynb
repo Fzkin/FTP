{
 "cells": [
  {
   "cell_type": "code",
   "execution_count": null,
   "metadata": {},
   "outputs": [],
   "source": [
    "ftp登陆连接\n",
    "from ftplib import FTP            #加载ftp模块\n",
    "ftp=FTP()                         #设置变量\n",
    "ftp.set_debuglevel(2)             #打开调试级别2，显示详细信息\n",
    "ftp.connect(\"IP\",\"port\")          #连接的ftp sever和端口\n",
    "ftp.login(\"user\",\"password\")      #连接的用户名，密码\n",
    "print ftp.getwelcome()            #打印出欢迎信息\n",
    "ftp.cmd(\"xxx/xxx\")                #进入远程目录\n",
    "bufsize=1024                      #设置的缓冲区大小\n",
    "filename=\"filename.txt\"           #需要下载的文件\n",
    "file_handle=open(filename,\"wb\").write #以写模式在本地打开文件\n",
    "ftp.retrbinaly(\"RETR filename.txt\",file_handle,bufsize) #接收服务器上文件并写入本地文件\n",
    "ftp.set_debuglevel(0)             #关闭调试模式\n",
    "ftp.quit()                        #退出ftp\n",
    " \n",
    "ftp相关命令操作\n",
    "ftp.cwd(pathname)                 #设置FTP当前操作的路径\n",
    "ftp.dir()                         #显示目录下所有目录信息\n",
    "ftp.nlst()                        #获取目录下的文件\n",
    "ftp.mkd(pathname)                 #新建远程目录\n",
    "ftp.pwd()                         #返回当前所在位置\n",
    "ftp.rmd(dirname)                  #删除远程目录\n",
    "ftp.delete(filename)              #删除远程文件\n",
    "ftp.rename(fromname, toname)#将fromname修改名称为toname。\n",
    "ftp.storbinaly(\"STOR filename.txt\",file_handel,bufsize)  #上传目标文件\n",
    "ftp.retrbinary(\"RETR filename.txt\",file_handel,bufsize)  #下载FTP文件"
   ]
  },
  {
   "cell_type": "code",
   "execution_count": null,
   "metadata": {},
   "outputs": [],
   "source": [
    "# coding: utf-8\n",
    "from ftplib import FTP\n",
    "import time\n",
    "import tarfile\n",
    "import os\n",
    "# !/usr/bin/python\n",
    "# -*- coding: utf-8 -*-"
   ]
  },
  {
   "cell_type": "code",
   "execution_count": null,
   "metadata": {},
   "outputs": [],
   "source": [
    "def ftpconnect(host, username, password):   \n",
    "    ftp = FTP()\n",
    "    # ftp.set_debuglevel(2)\n",
    "    ftp.connect(host, 21)\n",
    "    ftp.login(username, password)\n",
    "    return ftp"
   ]
  },
  {
   "cell_type": "code",
   "execution_count": null,
   "metadata": {},
   "outputs": [],
   "source": [
    "#从ftp下载文件   \n",
    "def downloadfile(ftp, remotepath, localpath):\n",
    "    bufsize = 1024\n",
    "    fp = open(localpath, 'wb')\n",
    "    ftp.retrbinary('RETR ' + remotepath, fp.write, bufsize)\n",
    "    ftp.set_debuglevel(0)\n",
    "    fp.close()"
   ]
  },
  {
   "cell_type": "code",
   "execution_count": null,
   "metadata": {},
   "outputs": [],
   "source": [
    "#从本地上传文件到ftp\n",
    "def uploadfile(ftp, remotepath, localpath):\n",
    "    bufsize = 1024\n",
    "    fp = open(localpath, 'rb')\n",
    "    ftp.storbinary('STOR ' + remotepath, fp, bufsize)\n",
    "    ftp.set_debuglevel(0)\n",
    "    fp.close()"
   ]
  },
  {
   "cell_type": "code",
   "execution_count": null,
   "metadata": {},
   "outputs": [],
   "source": [
    "if __name__ == \"__main__\":\n",
    "    ftp = ftpconnect(\"113.105.139.xxx\", \"ftp***\", \"Guest***\")\n",
    "    downloadfile(ftp, \"Faint.mp4\", \"C:/Users/Administrator/Desktop/test.mp4\")\n",
    "    #调用本地播放器播放下载的视频\n",
    "    os.system('start \"C:\\Program Files\\Windows Media Player\\wmplayer.exe\" \"C:/Users/Administrator/Desktop/test.mp4\"')\n",
    "    uploadfile(ftp, \"C:/Users/Administrator/Desktop/test.mp4\", \"test.mp4\")\n",
    "    ftp.quit()"
   ]
  }
 ],
 "metadata": {
  "kernelspec": {
   "display_name": "Python 3",
   "language": "python",
   "name": "python3"
  },
  "language_info": {
   "codemirror_mode": {
    "name": "ipython",
    "version": 3
   },
   "file_extension": ".py",
   "mimetype": "text/x-python",
   "name": "python",
   "nbconvert_exporter": "python",
   "pygments_lexer": "ipython3",
   "version": "3.7.6"
  }
 },
 "nbformat": 4,
 "nbformat_minor": 4
}
