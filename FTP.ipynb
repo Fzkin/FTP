{
 "cells": [
  {
   "cell_type": "markdown",
   "metadata": {
    "jupyter": {
     "source_hidden": true
    }
   },
   "source": [
    "ftp登陆连接\n",
    "from ftplib import FTP            #加载ftp模块\n",
    "ftp=FTP()                         #设置变量\n",
    "ftp.set_debuglevel(2)             #打开调试级别2，显示详细信息\n",
    "ftp.connect(\"IP\",\"port\")          #连接的ftp sever和端口\n",
    "ftp.login(\"user\",\"password\")      #连接的用户名，密码\n",
    "print ftp.getwelcome()            #打印出欢迎信息\n",
    "ftp.cmd(\"xxx/xxx\")                #进入远程目录\n",
    "bufsize=1024                      #设置的缓冲区大小\n",
    "filename=\"filename.txt\"           #需要下载的文件\n",
    "file_handle=open(filename,\"wb\").write #以写模式在本地打开文件\n",
    "ftp.retrbinaly(\"RETR filename.txt\",file_handle,bufsize) #接收服务器上文件并写入本地文件\n",
    "ftp.set_debuglevel(0)             #关闭调试模式\n",
    "ftp.quit()                        #退出ftp\n",
    " \n",
    "ftp相关命令操作\n",
    "ftp.cwd(pathname)                 #设置FTP当前操作的路径\n",
    "ftp.dir()                         #显示目录下所有目录信息\n",
    "ftp.nlst()                        #获取目录下的文件\n",
    "ftp.mkd(pathname)                 #新建远程目录\n",
    "ftp.pwd()                         #返回当前所在位置\n",
    "ftp.rmd(dirname)                  #删除远程目录\n",
    "ftp.delete(filename)              #删除远程文件\n",
    "ftp.rename(fromname, toname)#将fromname修改名称为toname。\n",
    "ftp.storbinaly(\"STOR filename.txt\",file_handel,bufsize)  #上传目标文件\n",
    "ftp.retrbinary(\"RETR filename.txt\",file_handel,bufsize)  #下载FTP文件"
   ]
  },
  {
   "cell_type": "markdown",
   "metadata": {},
   "source": [
    "# coding: utf-8\n",
    "from ftplib import FTP\n",
    "import time\n",
    "import tarfile\n",
    "import os\n",
    "# !/usr/bin/python\n",
    "# -*- coding: utf-8 -*-"
   ]
  },
  {
   "cell_type": "markdown",
   "metadata": {},
   "source": [
    "def ftpconnect(host, username, password):\n",
    "    ftp = FTP()\n",
    "    # ftp.set_debuglevel(2)\n",
    "    ftp.connect(host, 21)\n",
    "    ftp.login(username, password)\n",
    "    return ftp"
   ]
  },
  {
   "cell_type": "markdown",
   "metadata": {},
   "source": [
    "#从ftp下载文件\n",
    "def downloadfile(ftp, remotepath, localpath):\n",
    "    bufsize = 1024\n",
    "    fp = open(localpath, 'wb')\n",
    "    ftp.retrbinary('RETR ' + remotepath, fp.write, bufsize)\n",
    "    ftp.set_debuglevel(0)\n",
    "    fp.close()"
   ]
  },
  {
   "cell_type": "markdown",
   "metadata": {},
   "source": [
    "#从本地上传文件到ftp\n",
    "def uploadfile(ftp, remotepath, localpath):\n",
    "    bufsize = 1024\n",
    "    fp = open(localpath, 'rb')\n",
    "    ftp.storbinary('STOR ' + remotepath, fp, bufsize)\n",
    "    ftp.set_debuglevel(0)\n",
    "    fp.close()"
   ]
  },
  {
   "cell_type": "markdown",
   "metadata": {},
   "source": [
    "if __name__ == \"__main__\":\n",
    "    ftp = ftpconnect(\"113.105.139.xxx\", \"ftp***\", \"Guest***\")\n",
    "    downloadfile(ftp, \"Faint.mp4\", \"C:/Users/Administrator/Desktop/test.mp4\")\n",
    "    #调用本地播放器播放下载的视频\n",
    "    os.system('start \"C:\\Program Files\\Windows Media Player\\wmplayer.exe\" \"C:/Users/Administrator/Desktop/test.mp4\"')\n",
    "    uploadfile(ftp, \"C:/Users/Administrator/Desktop/test.mp4\", \"test.mp4\")\n",
    "    ftp.quit()"
   ]
  },
  {
   "cell_type": "markdown",
   "metadata": {},
   "source": []
  },
  {
   "cell_type": "code",
   "execution_count": 7,
   "metadata": {},
   "outputs": [
    {
     "data": {
      "text/plain": [
       "2"
      ]
     },
     "execution_count": 7,
     "metadata": {},
     "output_type": "execute_result"
    }
   ],
   "source": [
    "1+1 "
   ]
  },
  {
   "cell_type": "code",
   "execution_count": 6,
   "metadata": {},
   "outputs": [],
   "source": [
    "import pandas"
   ]
  },
  {
   "cell_type": "code",
   "execution_count": null,
   "metadata": {},
   "outputs": [
    {
     "name": "stdout",
     "output_type": "stream",
     "text": [
      "Collecting pandas\n",
      "  Downloading https://files.pythonhosted.org/packages/52/3f/f6a428599e0d4497e1595030965b5ba455fd8ade6e977e3c819973c4b41d/pandas-0.25.3-cp36-cp36m-manylinux1_x86_64.whl (10.4MB)\n",
      "\u001b[K    100% |████████████████████████████████| 10.4MB 59kB/s eta 0:00:01\n",
      "\u001b[?25hCollecting pytz>=2017.2 (from pandas)\n",
      "  Downloading https://files.pythonhosted.org/packages/e7/f9/f0b53f88060247251bf481fa6ea62cd0d25bf1b11a87888e53ce5b7c8ad2/pytz-2019.3-py2.py3-none-any.whl (509kB)\n",
      "\u001b[K    100% |████████████████████████████████| 512kB 300kB/s ta 0:00:01\n",
      "\u001b[?25hCollecting numpy>=1.13.3 (from pandas)\n",
      "  Downloading https://files.pythonhosted.org/packages/d2/ab/43e678759326f728de861edbef34b8e2ad1b1490505f20e0d1f0716c3bf4/numpy-1.17.4-cp36-cp36m-manylinux1_x86_64.whl (20.0MB)\n",
      "\u001b[K    74% |████████████████████████        | 15.0MB 173kB/s eta 0:00:301"
     ]
    }
   ],
   "source": [
    "pip install pandas"
   ]
  },
  {
   "cell_type": "code",
   "execution_count": null,
   "metadata": {},
   "outputs": [],
   "source": []
  }
 ],
 "metadata": {
  "kernelspec": {
   "display_name": "Python 3",
   "language": "python",
   "name": "python3"
  },
  "language_info": {
   "codemirror_mode": {
    "name": "ipython",
    "version": 3
   },
   "file_extension": ".py",
   "mimetype": "text/x-python",
   "name": "python",
   "nbconvert_exporter": "python",
   "pygments_lexer": "ipython3",
   "version": "3.6.8"
  }
 },
 "nbformat": 4,
 "nbformat_minor": 4
}
